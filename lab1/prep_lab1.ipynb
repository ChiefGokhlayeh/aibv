{
 "cells": [
  {
   "cell_type": "code",
   "execution_count": null,
   "id": "971f3322-6a7e-4b80-870a-26adcfa0719a",
   "metadata": {},
   "outputs": [],
   "source": [
    "import cv2\n",
    "import matplotlib.pyplot as plt\n",
    "import numpy as np"
   ]
  },
  {
   "cell_type": "markdown",
   "id": "f2b70af9-0eb5-458c-9182-3f37297e0b55",
   "metadata": {},
   "source": [
    "# Image Capture"
   ]
  },
  {
   "cell_type": "code",
   "execution_count": null,
   "id": "035ab870-502e-4b21-8e81-aa6272f91b7e",
   "metadata": {},
   "outputs": [],
   "source": [
    "fps = 10\n",
    "frame_width = 640\n",
    "frame_height = 480"
   ]
  },
  {
   "cell_type": "code",
   "execution_count": null,
   "id": "923a7524-03c2-4f93-bec0-7a03a33c974f",
   "metadata": {},
   "outputs": [],
   "source": [
    "def run_image_capture(process_fun):\n",
    "    global frame_width\n",
    "    global frame_height\n",
    "    try:\n",
    "        cap = cv2.VideoCapture(0)\n",
    "        cap.set(cv2.CAP_PROP_FRAME_WIDTH, frame_width)\n",
    "        cap.set(cv2.CAP_PROP_FRAME_HEIGHT, frame_height)\n",
    "        while cv2.waitKey(int(1 / fps * 1000)) != 27:\n",
    "            ret, frame = cap.read()\n",
    "            if ret:\n",
    "                process_fun(frame)\n",
    "    finally:\n",
    "        cap.release()\n",
    "        del cap\n",
    "        cv2.destroyAllWindows()"
   ]
  },
  {
   "cell_type": "markdown",
   "id": "a960b818-8147-4b7b-8523-07b4f9cb135d",
   "metadata": {},
   "source": [
    "Run video capture at 10 FPS and configure camera to run with 640px frame width."
   ]
  },
  {
   "cell_type": "code",
   "execution_count": null,
   "id": "cf01e225-353f-42e0-88fe-3d4c80e1f832",
   "metadata": {},
   "outputs": [],
   "source": [
    "run_image_capture(lambda frame: cv2.imshow(\"Webcam\", frame))"
   ]
  },
  {
   "cell_type": "markdown",
   "id": "cbb54898-2d8f-43ea-9a90-7d55153cb006",
   "metadata": {},
   "source": [
    "Determine pixel data-type."
   ]
  },
  {
   "cell_type": "code",
   "execution_count": null,
   "id": "12bd35ff-e47e-4824-a3f8-04a821cd0675",
   "metadata": {},
   "outputs": [],
   "source": [
    "try:\n",
    "    cap = cv2.VideoCapture(0)\n",
    "    cap.set(cv2.CAP_PROP_FRAME_WIDTH, frame_width)\n",
    "    _, frame = cap.read()\n",
    "finally:\n",
    "    cap.release()\n",
    "    del cap\n",
    "    cv2.destroyAllWindows()\n",
    "\n",
    "print(f\"Type: {type(frame[0, 0]).__name__}\")\n",
    "print(f\"Shape: {frame[0, 0].shape}\")"
   ]
  },
  {
   "cell_type": "markdown",
   "id": "2f97783f-371b-4ea7-941f-43a61f23ea82",
   "metadata": {},
   "source": [
    "Draw Region of Interrest (ROI) around face."
   ]
  },
  {
   "cell_type": "code",
   "execution_count": null,
   "id": "b7c7c670-455d-4291-bc16-1d60aec9d734",
   "metadata": {},
   "outputs": [],
   "source": [
    "roi = frame.copy()\n",
    "roi[50, 150:-150] = np.full_like(roi[50, 150:-150], [0, 0, 255])\n",
    "roi[-100, 150:-150] = np.full_like(roi[-100, 150:-150], [0, 0, 255])\n",
    "roi[50:-100, 150] = np.full_like(roi[50:-100, 150], [0, 0, 255])\n",
    "roi[50:-100, -150] = np.full_like(roi[50:-100, -150], [0, 0, 255])\n",
    "cv2.imshow(\"Region of Interest\", roi)\n",
    "cv2.waitKey(0)\n",
    "cv2.destroyAllWindows()"
   ]
  },
  {
   "cell_type": "markdown",
   "id": "d535868c-cc78-42f6-aa24-262b462d8baa",
   "metadata": {},
   "source": [
    "Display color channels separately."
   ]
  },
  {
   "cell_type": "code",
   "execution_count": null,
   "id": "755f6ef7-9965-4584-80c3-ee1e0e3eeba2",
   "metadata": {},
   "outputs": [],
   "source": [
    "for i, title in enumerate([\"Blue\", \"Green\", \"Red\"]):\n",
    "    cv2.imshow(title, frame[:, :, i])\n",
    "\n",
    "cv2.waitKey(0)\n",
    "cv2.destroyAllWindows()"
   ]
  },
  {
   "cell_type": "markdown",
   "id": "aee19226-5e0f-4936-b3fe-91b67a4af01a",
   "metadata": {},
   "source": [
    "Run grayscale webcam capture."
   ]
  },
  {
   "cell_type": "code",
   "execution_count": null,
   "id": "309ef3a1-b6d8-4a4d-b0d3-726a579ee0e0",
   "metadata": {},
   "outputs": [],
   "source": [
    "gray_histogram = []\n",
    "\n",
    "\n",
    "def convert_to_grayscale(frame):\n",
    "    global gray_histogram\n",
    "    gray = cv2.cvtColor(frame, cv2.COLOR_BGR2GRAY)\n",
    "    gray_histogram.append(np.mean(gray[int(gray.shape[0] / 2), :]))\n",
    "    cv2.imshow(\"Grayscale\", gray)\n",
    "\n",
    "\n",
    "run_image_capture(convert_to_grayscale)\n",
    "\n",
    "ax = plt.subplot()\n",
    "ax.plot(np.arange(len(gray_histogram)) / fps, gray_histogram)\n",
    "ax.set_title(\"Grayscale Histogram\")\n",
    "ax.set_xlabel(\"Time [s]\")\n",
    "ax.set_ylabel(\"Gray Intensity\")\n",
    "ax.set_ylim([0, 255])\n",
    "ax.grid(True)"
   ]
  },
  {
   "cell_type": "markdown",
   "id": "c945044b-a706-4457-a1d2-1ba3037a303f",
   "metadata": {},
   "source": [
    "# Image Processing"
   ]
  },
  {
   "cell_type": "markdown",
   "id": "139fe8eb-a91b-4ef1-abeb-574cd123830c",
   "metadata": {},
   "source": [
    "Increase brightness of image via `cv2.add()` and calculate image delta between frames via `cv2.absdiff()`."
   ]
  },
  {
   "cell_type": "code",
   "execution_count": null,
   "id": "fbbe67f7-5292-49ad-ad67-5f59c836f095",
   "metadata": {},
   "outputs": [],
   "source": [
    "last_gray = None\n",
    "\n",
    "\n",
    "def apply_add_and_delta(frame):\n",
    "    global last_gray\n",
    "    cv2.imshow(\"add()\", cv2.add(frame, 100))\n",
    "    gray = cv2.cvtColor(frame, cv2.COLOR_BGR2GRAY)\n",
    "    if last_gray is not None:\n",
    "        cv2.imshow(\"absdiff()\", cv2.absdiff(gray, last_gray))\n",
    "    last_gray = gray\n",
    "\n",
    "\n",
    "run_image_capture(apply_add_and_delta)"
   ]
  },
  {
   "cell_type": "markdown",
   "id": "59eb0b48-c562-4844-af9f-ebb551090670",
   "metadata": {},
   "source": [
    "Apply blur and Sobel filter to image."
   ]
  },
  {
   "cell_type": "code",
   "execution_count": null,
   "id": "73b21c84-0b2b-41bf-9950-6bcaca730fc1",
   "metadata": {},
   "outputs": [],
   "source": [
    "image = cv2.imread(\"data/solarzelle.bmp\", 0)\n",
    "\n",
    "fig = plt.figure(figsize=(20, 5))\n",
    "\n",
    "blur = cv2.blur(image, (5, 5))\n",
    "ax = fig.add_subplot(1, 3, 1)\n",
    "ax.imshow(blur, cmap=\"gray\")\n",
    "ax.set_title(\"Blur\")\n",
    "\n",
    "sobel = cv2.Sobel(image, cv2.CV_8U, 1, 0, ksize=3)\n",
    "ax = fig.add_subplot(1, 3, 2)\n",
    "ax.imshow(sobel, cmap=\"gray\")\n",
    "ax.set_title(\"Sobel (horizontal)\")\n",
    "\n",
    "sobel = cv2.Sobel(image, cv2.CV_8U, 0, 1, ksize=3)\n",
    "ax = fig.add_subplot(1, 3, 3)\n",
    "ax.imshow(sobel, cmap=\"gray\")\n",
    "ax.set_title(\"Sobel (vertical)\")"
   ]
  },
  {
   "cell_type": "markdown",
   "id": "233594e9-89f9-4731-a647-050cd91f32a2",
   "metadata": {},
   "source": [
    "Apply all-ones 3x3 kernel to image."
   ]
  },
  {
   "cell_type": "code",
   "execution_count": null,
   "id": "79043f57-8f64-4e01-bbf3-9e142be7d2dd",
   "metadata": {},
   "outputs": [],
   "source": [
    "fig = plt.figure(figsize=(20, 5))\n",
    "\n",
    "image = np.zeros((10, 10))\n",
    "image[2:-2, 2:-2] = np.full_like(image[2:-2, 2:-2], 9)\n",
    "ax = fig.add_subplot(1, 4, 1)\n",
    "ax.imshow(image, cmap=\"gray\")\n",
    "ax.set_title(\"Image\")\n",
    "\n",
    "kernel = np.ones([3, 3])\n",
    "conv = cv2.filter2D(src=image, ddepth=-1, kernel=kernel) / 9\n",
    "ax = fig.add_subplot(1, 4, 2)\n",
    "ax.imshow(conv, cmap=\"gray\")\n",
    "ax.set_title(\"All-ones Kernel\")\n",
    "\n",
    "blur = cv2.blur(image, (3, 3))\n",
    "ax = fig.add_subplot(1, 4, 3)\n",
    "ax.imshow(blur, cmap=\"gray\")\n",
    "ax.set_title(\"Blur\")\n",
    "\n",
    "gaus = cv2.GaussianBlur(image, (3, 3), 0)\n",
    "ax = fig.add_subplot(1, 4, 4)\n",
    "ax.imshow(gaus, cmap=\"gray\")\n",
    "ax.set_title(\"Gaussian-Blur\")"
   ]
  }
 ],
 "metadata": {
  "kernelspec": {
   "display_name": "Python 3 (ipykernel)",
   "language": "python",
   "name": "python3"
  },
  "language_info": {
   "codemirror_mode": {
    "name": "ipython",
    "version": 3
   },
   "file_extension": ".py",
   "mimetype": "text/x-python",
   "name": "python",
   "nbconvert_exporter": "python",
   "pygments_lexer": "ipython3",
   "version": "3.9.12"
  }
 },
 "nbformat": 4,
 "nbformat_minor": 5
}

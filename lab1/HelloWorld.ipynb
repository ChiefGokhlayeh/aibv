{
 "cells": [
  {
   "cell_type": "code",
   "execution_count": null,
   "metadata": {},
   "outputs": [],
   "source": [
    "import cv2\n",
    "import pypylon.pylon as py\n",
    "\n",
    "first_device = py.TlFactory.GetInstance().CreateFirstDevice()\n",
    "icam = py.InstantCamera(first_device)\n",
    "icam.Open()\n",
    "\n",
    "icam.PixelFormat = \"RGB8\"\n",
    "\n",
    "icam.Width = 640\n",
    "icam.Height = 480\n",
    "icam.CenterX = True\n",
    "icam.CenterY = True\n",
    "\n",
    "icam.GainAuto = \"Off\"\n",
    "icam.ExposureAuto = \"Continuous\"\n",
    "icam.WhiteBalanceAuto = \"Off\"\n",
    "icam.Gain = 0\n",
    "\n",
    "icam.StartGrabbing(py.GrabStrategy_LatestImage)\n",
    "\n",
    "while True:\n",
    "    res = icam.RetrieveResult(1000)\n",
    "    currImg = cv2.cvtColor(res.Array, cv2.COLOR_RGB2BGR)\n",
    "    cv2.imshow(\"Press <Space> to save or <Esc> to quit\", currImg)\n",
    "    key = cv2.waitKey(1)\n",
    "    if key == 27:\n",
    "        break\n",
    "    if key == 32:\n",
    "        cv2.imwrite(\"image.tiff\", currImg)\n",
    "\n",
    "icam.StopGrabbing()\n",
    "icam.Close()\n",
    "cv2.destroyAllWindows()"
   ]
  }
 ],
 "metadata": {
  "interpreter": {
   "hash": "d4d1e4263499bec80672ea0156c357c1ee493ec2b1c70f0acce89fc37c4a6abe"
  },
  "kernelspec": {
   "display_name": "Python 3.9.9 ('base')",
   "language": "python",
   "name": "python3"
  },
  "language_info": {
   "codemirror_mode": {
    "name": "ipython",
    "version": 3
   },
   "file_extension": ".py",
   "mimetype": "text/x-python",
   "name": "python",
   "nbconvert_exporter": "python",
   "pygments_lexer": "ipython3",
   "version": "3.9.9"
  }
 },
 "nbformat": 4,
 "nbformat_minor": 2
}

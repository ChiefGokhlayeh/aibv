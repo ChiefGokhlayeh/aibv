{
  "cells": [
    {
      "cell_type": "markdown",
      "metadata": {
        "id": "view-in-github",
        "colab_type": "text"
      },
      "source": [
        "<a href=\"https://colab.research.google.com/github/ChiefGokhlayeh/aibv/blob/master/lab4/lab4.ipynb\" target=\"_parent\"><img src=\"https://colab.research.google.com/assets/colab-badge.svg\" alt=\"Open In Colab\"/></a>"
      ]
    },
    {
      "cell_type": "markdown",
      "metadata": {
        "id": "-Q5g_O1GeNH0"
      },
      "source": [
        "# Labor 4 Deep Learning für die Solarzelleninspektion mit CNN\n",
        "\n",
        "Im Kurs **(IE/DHL) Angewandte industrielle Bildverarbeitung S22** der **Hochschule für Angewandte Wissenschaften Hamburg**. Durchgeführt von:\n",
        "\n",
        "* **Andreas Baulig**\n",
        "* **Fabian Mahler**\n",
        "\n",
        "Laborbetreuung:\n",
        "\n",
        "* **Prof. Dr.-Ing. Dipl.-Kfm. J. Dahlkemper**\n",
        "\n",
        "## Ziel\n",
        "\n",
        "In diesem Versuch soll ein auf der Bilddatenbank ImageNet pre-trained CNN mit einem von Grund auf trainiertem CNN im Hinblick auf die Leistungsfähigkeit der Klassifizierung von Solarzellen auf Basis derer Elektrolumineszenz-Bilder verglichen werden.\n"
      ]
    },
    {
      "cell_type": "markdown",
      "metadata": {
        "id": "ktpE-SJOeNH5"
      },
      "source": [
        "## Vorbereitung\n",
        "\n",
        "Zunächst wird geprüft, ob die für das Labor notwendigen Python Pakete installiert sind. Darunter fällt auch ein Test, ob TensorFlow mit GPU-Beschleunigung arbeiten kann.\n"
      ]
    },
    {
      "cell_type": "code",
      "execution_count": null,
      "metadata": {
        "id": "-y9GYoo-eNH6"
      },
      "outputs": [],
      "source": [
        "import tensorflow as tf\n",
        "\n",
        "# Check if GPU is present\n",
        "if tf.test.gpu_device_name():\n",
        "    print(f\"Default GPU Device: {tf.test.gpu_device_name()}\")\n",
        "else:\n",
        "    print(\"Please install GPU version of TF\")"
      ]
    },
    {
      "cell_type": "markdown",
      "metadata": {
        "id": "Oodhf4eXfVMN"
      },
      "source": [
        "## **Meta**: Google Colab Code Formatierung und Aufräumen\n",
        "\n",
        "Erlaubt es die Code Zellen dieses Notebooks zu formatieren und etwaige Zellinhalte zu löschen. Besonderes letzeres sollte vor jedem `git commit` durchgeführt werden, um die `.ipynb` Datei klein zu halten.\n",
        "\n",
        "Nach dem ausführen der Tools **nicht speichern**, stattdessen Seite mit `F5` neu laden. **Nur** für Verwendung in Google Colab gedacht. \n",
        "\n",
        "Inspiriert von https://stackoverflow.com/a/71001241.\n"
      ]
    },
    {
      "cell_type": "code",
      "execution_count": null,
      "metadata": {
        "id": "2h0cy5jDfUer"
      },
      "outputs": [],
      "source": [
        "try:\n",
        "    import google.colab\n",
        "    from google.colab import drive\n",
        "\n",
        "    drive.mount(\"/content/drive\")\n",
        "\n",
        "except ImportError:\n",
        "    raise SystemExit(\"Not running in Google Colab!\")\n",
        "\n",
        "!pip install black[jupyter] nbstripout\n",
        "!black '/content/drive/MyDrive/Colab Notebooks/lab4.ipynb'\n",
        "!nbstripout '/content/drive/MyDrive/Colab Notebooks/lab4.ipynb'"
      ]
    }
  ],
  "metadata": {
    "accelerator": "GPU",
    "colab": {
      "collapsed_sections": [],
      "name": "lab4.ipynb",
      "provenance": [],
      "include_colab_link": true
    },
    "kernelspec": {
      "display_name": "Python 3.9.9 ('base')",
      "language": "python",
      "name": "python3"
    },
    "language_info": {
      "codemirror_mode": {
        "name": "ipython",
        "version": 3
      },
      "file_extension": ".py",
      "mimetype": "text/x-python",
      "name": "python",
      "nbconvert_exporter": "python",
      "pygments_lexer": "ipython3",
      "version": "3.9.13"
    },
    "vscode": {
      "interpreter": {
        "hash": "d4d1e4263499bec80672ea0156c357c1ee493ec2b1c70f0acce89fc37c4a6abe"
      }
    }
  },
  "nbformat": 4,
  "nbformat_minor": 0
}
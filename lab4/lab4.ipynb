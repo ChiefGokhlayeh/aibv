{
 "cells": [
  {
   "cell_type": "markdown",
   "metadata": {
    "colab_type": "text",
    "id": "view-in-github"
   },
   "source": [
    "<a href=\"https://colab.research.google.com/github/ChiefGokhlayeh/aibv/blob/master/lab4/lab4.ipynb\" target=\"_parent\"><img src=\"https://colab.research.google.com/assets/colab-badge.svg\" alt=\"Open In Colab\"/></a>"
   ]
  },
  {
   "cell_type": "markdown",
   "metadata": {
    "id": "-Q5g_O1GeNH0"
   },
   "source": [
    "# Labor 4 Deep Learning für die Solarzelleninspektion mit CNN\n",
    "\n",
    "Im Kurs **(IE/DHL) Angewandte industrielle Bildverarbeitung S22** der **Hochschule für Angewandte Wissenschaften Hamburg**. Durchgeführt von:\n",
    "\n",
    "* **Andreas Baulig**\n",
    "* **Fabian Mahler**\n",
    "\n",
    "Laborbetreuung:\n",
    "\n",
    "* **Prof. Dr.-Ing. Dipl.-Kfm. J. Dahlkemper**\n",
    "\n",
    "## Ziel\n",
    "\n",
    "In diesem Versuch soll ein auf der Bilddatenbank ImageNet pre-trained CNN mit einem von Grund auf trainiertem CNN im Hinblick auf die Leistungsfähigkeit der Klassifizierung von Solarzellen auf Basis derer Elektrolumineszenz-Bilder verglichen werden.\n"
   ]
  },
  {
   "cell_type": "markdown",
   "metadata": {
    "id": "ktpE-SJOeNH5"
   },
   "source": [
    "## Vorbereitung\n",
    "\n",
    "Zunächst wird geprüft, ob die für das Labor notwendigen Python Pakete installiert sind. Darunter fällt auch ein Test, ob TensorFlow mit GPU-Beschleunigung arbeiten kann.\n"
   ]
  },
  {
   "cell_type": "code",
   "execution_count": null,
   "metadata": {
    "id": "-y9GYoo-eNH6"
   },
   "outputs": [],
   "source": [
    "import tensorflow as tf\n",
    "\n",
    "# Check if GPU is present\n",
    "if tf.test.gpu_device_name():\n",
    "    print(f\"Default GPU Device: {tf.test.gpu_device_name()}\")\n",
    "else:\n",
    "    print(\"Please install GPU version of TF\")"
   ]
  },
  {
   "cell_type": "markdown",
   "metadata": {
    "id": "bLaHyQ9Lmtve"
   },
   "source": [
    "**NUR IN GOOGLE COLAB!**\n"
   ]
  },
  {
   "cell_type": "code",
   "execution_count": null,
   "metadata": {
    "id": "rKPY8M26mtVI"
   },
   "outputs": [],
   "source": [
    "try:\n",
    "    import google.colab\n",
    "\n",
    "    IN_COLAB = True\n",
    "    print(\"Running in Google Colab.\")\n",
    "except ImportError:\n",
    "    IN_COLAB = False\n",
    "    print(\"Not running in Google Colab.\")"
   ]
  },
  {
   "cell_type": "code",
   "execution_count": null,
   "metadata": {
    "id": "ZbqNprelnLe9"
   },
   "outputs": [],
   "source": [
    "if IN_COLAB:\n",
    "    from google.colab import drive\n",
    "\n",
    "    drive.mount(\"/content/drive\")"
   ]
  },
  {
   "cell_type": "code",
   "execution_count": null,
   "metadata": {
    "id": "faDHrIcWnSb0"
   },
   "outputs": [],
   "source": [
    "import requests\n",
    "import zipfile\n",
    "import io\n",
    "import os\n",
    "from tqdm import tqdm\n",
    "\n",
    "\n",
    "def extract_dataset(fileobj, data_dir):\n",
    "    with zipfile.ZipFile(fileobj) as z:\n",
    "        for member in tqdm(\n",
    "            z.infolist(), desc=f\"Extracting to {os.path.normpath(data_dir)}\"\n",
    "        ):\n",
    "            z.extract(member, data_dir)\n",
    "\n",
    "\n",
    "if IN_COLAB:\n",
    "    # In Google Colab we have to first download the zip file from the\n",
    "    # repository.\n",
    "    data_dir = \"/content/data\"\n",
    "    dataset_source_url = \"https://media.githubusercontent.com/media/ChiefGokhlayeh/aibv/master/data/multilabel.zip\"\n",
    "    with requests.get(dataset_source_url) as req:\n",
    "        req.raise_for_status()\n",
    "\n",
    "        extract_dataset(io.BytesIO(req.content), data_dir)\n",
    "\n",
    "else:\n",
    "    # Assume we are executing within the repository, so the zip file should be\n",
    "    # available locally.\n",
    "    data_dir = \"../data\"\n",
    "    dataset_source_path = \"../data/multilabel.zip\"\n",
    "\n",
    "    with open(dataset_source_path, \"r\") as f:\n",
    "        extract_dataset(f, data_dir)\n",
    "\n",
    "multilabel_dir = os.path.join(data_dir, \"multilabel\")"
   ]
  },
  {
   "cell_type": "markdown",
   "metadata": {
    "id": "Ykrd_MvTmI5z"
   },
   "source": [
    "## Bildtransformationen mit `ImageDataGenerator`\n",
    "\n",
    "Überlegen und schriftlich festhalten, welche Arten der im `ImageDataGenerator` verfügbaren Bildtransformationen (siehe https://www.tensorflow.org/api_docs/python/tf/keras/preprocessing/image/ImageDataGenerator) für die Data Augmentation der Solarzellenbilder geeignet ist, (detailliertes Tutorial hierzu https://towardsdatascience.com/image-augmentationfor-deep-learning-using-keras-and-histogram-equalization-9329f6ae5085).\n"
   ]
  },
  {
   "cell_type": "code",
   "execution_count": null,
   "metadata": {
    "id": "8-o7Lfl-8wlj"
   },
   "outputs": [],
   "source": [
    "import itertools\n",
    "import pandas as pd\n",
    "import matplotlib.pyplot as plt\n",
    "\n",
    "from keras.preprocessing.image import ImageDataGenerator\n",
    "\n",
    "labels_df = pd.read_csv(os.path.join(multilabel_dir, \"labels.csv\"))\n",
    "\n",
    "image_gen = ImageDataGenerator(\n",
    "    rotation_range=0,\n",
    "    width_shift_range=0.0085,\n",
    "    height_shift_range=0.009,\n",
    "    brightness_range=(0.3, 1.1),\n",
    "    shear_range=0.1,\n",
    "    fill_mode=\"constant\",\n",
    "    cval=0,\n",
    "    horizontal_flip=True,\n",
    "    rescale=1.0 / 255.0,\n",
    "    validation_split=0.7,\n",
    ")\n",
    "\n",
    "imggen_sample_size = 5\n",
    "sample_batch_size = 3\n",
    "\n",
    "label_names = [\"crack\", \"darkarea\", \"finger\"]\n",
    "\n",
    "gen_iter = image_gen.flow_from_dataframe(\n",
    "    dataframe=labels_df,\n",
    "    directory=multilabel_dir,\n",
    "    x_col=\"File\",\n",
    "    y_col=label_names,\n",
    "    batch_size=sample_batch_size,\n",
    "    color_mode=\"rgb\",\n",
    "    class_mode=\"multi_output\",\n",
    ")\n",
    "\n",
    "fig, axs = plt.subplots(sample_batch_size, imggen_sample_size, figsize=(15, 9))\n",
    "\n",
    "for i, (batch, labels) in enumerate(itertools.islice(gen_iter, imggen_sample_size)):\n",
    "    for j, img in enumerate(batch):\n",
    "        ax = axs[j, i]\n",
    "        ax.imshow(batch[j, :, :, :], cmap=\"gray\")\n",
    "        labels_s = pd.Series(labels[j], index=label_names)\n",
    "        ax.set_title(\", \".join(labels_s.index[labels_s == 1].to_list()) or \"ok\")\n",
    "\n",
    "fig.tight_layout()"
   ]
  },
  {
   "cell_type": "markdown",
   "metadata": {
    "id": "Oodhf4eXfVMN"
   },
   "source": [
    "## **Meta**: Google Colab Code Formatierung und Aufräumen\n",
    "\n",
    "Erlaubt es die Codezellen dieses Notebooks zu formatieren und etwaige Zellinhalte zu löschen. Besonderes letzteres sollte vor jedem `git commit` durchgeführt werden, um die `.ipynb` Datei kleinzuhalten.\n",
    "\n",
    "Nach dem Ausführen der Tools **nicht speichern**, stattdessen Seite mit `F5` neu laden. **Nur** für Verwendung in Google Colab gedacht. \n",
    "\n",
    "Inspiriert von https://stackoverflow.com/a/71001241.\n"
   ]
  },
  {
   "cell_type": "code",
   "execution_count": null,
   "metadata": {
    "id": "w3C9SlXvm5H4"
   },
   "outputs": [],
   "source": [
    "if IN_COLAB:\n",
    "    %pip install black[jupyter] nbstripout\n",
    "    !black '/content/drive/MyDrive/Colab Notebooks/lab4.ipynb'\n",
    "    !nbstripout '/content/drive/MyDrive/Colab Notebooks/lab4.ipynb'"
   ]
  }
 ],
 "metadata": {
  "accelerator": "GPU",
  "colab": {
   "collapsed_sections": [],
   "include_colab_link": true,
   "name": "lab4.ipynb",
   "provenance": []
  },
  "kernelspec": {
   "display_name": "Python 3.9.9 ('base')",
   "language": "python",
   "name": "python3"
  },
  "language_info": {
   "codemirror_mode": {
    "name": "ipython",
    "version": 3
   },
   "file_extension": ".py",
   "mimetype": "text/x-python",
   "name": "python",
   "nbconvert_exporter": "python",
   "pygments_lexer": "ipython3",
   "version": "3.9.13"
  },
  "vscode": {
   "interpreter": {
    "hash": "d4d1e4263499bec80672ea0156c357c1ee493ec2b1c70f0acce89fc37c4a6abe"
   }
  }
 },
 "nbformat": 4,
 "nbformat_minor": 0
}
